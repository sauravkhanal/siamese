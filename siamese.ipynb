{
 "cells": [
  {
   "cell_type": "markdown",
   "metadata": {
    "colab": {
     "base_uri": "https://localhost:8080/"
    },
    "executionInfo": {
     "elapsed": 2810,
     "status": "ok",
     "timestamp": 1663946973067,
     "user": {
      "displayName": "Greg Hogg",
      "userId": "00528211315683878441"
     },
     "user_tz": 240
    },
    "id": "lQGZUuCgzr5j",
    "outputId": "eb2be40b-2d2a-480e-dfdd-c2414a92ecf2"
   },
   "source": [
    "import tensorflow as tf\n",
    "\n",
    "mnist = tf.keras.datasets.mnist\n",
    "\n",
    "(X_train, y_train), (X_test, y_test) = mnist.load_data()\n",
    "\n",
    "X_train.shape, y_train.shape, X_test.shape, y_test.shape"
   ]
  },
  {
   "cell_type": "code",
   "execution_count": 1,
   "metadata": {},
   "outputs": [],
   "source": [
    "import tensorflow as tf\n",
    "import os\n",
    "import cv2\n",
    "from PIL import Image\n",
    "import numpy as np"
   ]
  },
  {
   "cell_type": "code",
   "execution_count": 2,
   "metadata": {},
   "outputs": [],
   "source": [
    "image_directory = 'A:/signatures/train/'\n",
    "SIZE = 50\n",
    "image_size = (SIZE,SIZE)\n",
    "dataset = []\n",
    "label = []"
   ]
  },
  {
   "cell_type": "markdown",
   "metadata": {},
   "source": [
    "A:/signatures/train/0 ---> prajwol\n"
   ]
  },
  {
   "cell_type": "markdown",
   "metadata": {},
   "source": [
    "A:/signatures/train/4----> suprim\n"
   ]
  },
  {
   "cell_type": "markdown",
   "metadata": {},
   "source": [
    "\n",
    "same for test"
   ]
  },
  {
   "cell_type": "code",
   "execution_count": 3,
   "metadata": {},
   "outputs": [],
   "source": [
    "good_images = os.listdir(image_directory + '0/')\n",
    "for i, image_name in enumerate(good_images):\n",
    "    if (image_name.split('.')[1] == 'png'):\n",
    "        image = cv2.imread(image_directory + '0/' + image_name,cv2.COLOR_BGR2GRAY)\n",
    "        image = Image.fromarray(image)\n",
    "        image = image.resize((SIZE, SIZE))\n",
    "        dataset.append(np.array(image))\n",
    "        label.append(1)"
   ]
  },
  {
   "cell_type": "code",
   "execution_count": 4,
   "metadata": {},
   "outputs": [],
   "source": [
    "dirs = os.listdir(image_directory)"
   ]
  },
  {
   "cell_type": "code",
   "execution_count": 5,
   "metadata": {},
   "outputs": [],
   "source": [
    "good_images = os.listdir(image_directory + '4/')\n",
    "for i, image_name in enumerate(good_images):\n",
    "    if (image_name.split('.')[1] == 'png'):\n",
    "        image = cv2.imread(image_directory + '4/' + image_name,cv2.COLOR_BGR2GRAY)\n",
    "        image = Image.fromarray(image)\n",
    "        image = image.resize((SIZE, SIZE))\n",
    "        dataset.append(np.array(image))\n",
    "        label.append(0)"
   ]
  },
  {
   "cell_type": "code",
   "execution_count": 6,
   "metadata": {},
   "outputs": [
    {
     "data": {
      "text/plain": [
       "((140, 50, 50), (140,))"
      ]
     },
     "execution_count": 6,
     "metadata": {},
     "output_type": "execute_result"
    }
   ],
   "source": [
    "dataset = np.array(dataset)\n",
    "label = np.array(label)\n",
    "dataset.shape, label.shape"
   ]
  },
  {
   "cell_type": "code",
   "execution_count": 7,
   "metadata": {},
   "outputs": [],
   "source": [
    "test_dataset = []\n",
    "test_label= []\n",
    "image_directory = 'A:/signatures/test/'"
   ]
  },
  {
   "cell_type": "code",
   "execution_count": 8,
   "metadata": {},
   "outputs": [],
   "source": [
    "good_images = os.listdir(image_directory + '0/')\n",
    "for i, image_name in enumerate(good_images):\n",
    "    if (image_name.split('.')[1] == 'png'):\n",
    "        image = cv2.imread(image_directory + '0/' + image_name,cv2.COLOR_BGR2GRAY)\n",
    "        image = Image.fromarray(image)\n",
    "        image = image.resize((SIZE, SIZE))\n",
    "        test_dataset.append(np.array(image))\n",
    "        test_label.append(0)"
   ]
  },
  {
   "cell_type": "code",
   "execution_count": 9,
   "metadata": {},
   "outputs": [],
   "source": [
    "good_images = os.listdir(image_directory + '4/')\n",
    "for i, image_name in enumerate(good_images):\n",
    "    if (image_name.split('.')[1] == 'png'):\n",
    "        image = cv2.imread(image_directory + '4/' + image_name,cv2.COLOR_BGR2GRAY)\n",
    "        image = Image.fromarray(image)\n",
    "        image = image.resize((SIZE, SIZE))\n",
    "        test_dataset.append(np.array(image))\n",
    "        test_label.append(1)"
   ]
  },
  {
   "cell_type": "code",
   "execution_count": 10,
   "metadata": {},
   "outputs": [
    {
     "data": {
      "text/plain": [
       "((10, 50, 50), (10,))"
      ]
     },
     "execution_count": 10,
     "metadata": {},
     "output_type": "execute_result"
    }
   ],
   "source": [
    "test_dataset = np.array(test_dataset)\n",
    "test_label = np.array(test_label)\n",
    "test_dataset.shape, test_label.shape"
   ]
  },
  {
   "cell_type": "markdown",
   "metadata": {},
   "source": [
    "y_train"
   ]
  },
  {
   "cell_type": "code",
   "execution_count": null,
   "metadata": {},
   "outputs": [],
   "source": [
    "DEPTH = 50 "
   ]
  },
  {
   "cell_type": "code",
   "execution_count": 12,
   "metadata": {
    "colab": {
     "base_uri": "https://localhost:8080/"
    },
    "executionInfo": {
     "elapsed": 1273,
     "status": "ok",
     "timestamp": 1663946974338,
     "user": {
      "displayName": "Greg Hogg",
      "userId": "00528211315683878441"
     },
     "user_tz": 240
    },
    "id": "987eTnWsz8Lz",
    "outputId": "15930a30-3805-4a49-ef21-c158075e8270"
   },
   "outputs": [
    {
     "name": "stdout",
     "output_type": "stream",
     "text": [
      "Model: \"model_1\"\n",
      "__________________________________________________________________________________________________\n",
      " Layer (type)                   Output Shape         Param #     Connected to                     \n",
      "==================================================================================================\n",
      " img_A_inp (InputLayer)         [(None, 50, 50)]     0           []                               \n",
      "                                                                                                  \n",
      " img_B_inp (InputLayer)         [(None, 50, 50)]     0           []                               \n",
      "                                                                                                  \n",
      " sequential_8 (Sequential)      (None, 64)           979520      ['img_A_inp[0][0]',              \n",
      "                                                                  'img_B_inp[0][0]']              \n",
      "                                                                                                  \n",
      " concatenate_1 (Concatenate)    (None, 128)          0           ['sequential_8[0][0]',           \n",
      "                                                                  'sequential_8[1][0]']           \n",
      "                                                                                                  \n",
      " dense_4 (Dense)                (None, 64)           8256        ['concatenate_1[0][0]']          \n",
      "                                                                                                  \n",
      " dense_5 (Dense)                (None, 1)            65          ['dense_4[0][0]']                \n",
      "                                                                                                  \n",
      "==================================================================================================\n",
      "Total params: 987,841\n",
      "Trainable params: 986,177\n",
      "Non-trainable params: 1,664\n",
      "__________________________________________________________________________________________________\n"
     ]
    }
   ],
   "source": [
    "from tensorflow.keras.layers import *\n",
    "from tensorflow.keras.models import Sequential, Model\n",
    "\n",
    "\n",
    "img_A_inp = Input((image_size), name='img_A_inp')\n",
    "img_B_inp = Input((image_size), name='img_B_inp')\n",
    "\n",
    "def get_cnn_block(depth):\n",
    "  return Sequential([Conv2D(depth, 3, 1),\n",
    "                     BatchNormalization(),\n",
    "                     ReLU()])\n",
    "\n",
    "DEPTH = 64\n",
    "cnn = Sequential([Reshape((SIZE,SIZE, 1)),\n",
    "                  get_cnn_block(DEPTH),\n",
    "                  get_cnn_block(DEPTH*2),\n",
    "                  BatchNormalization(),\n",
    "                  get_cnn_block(DEPTH*4),\n",
    "                  get_cnn_block(DEPTH*4),\n",
    "                  GlobalAveragePooling2D(),\n",
    "                  Dense(64, activation='relu')])\n",
    "\n",
    "feature_vector_A = cnn(img_A_inp)\n",
    "feature_vector_B = cnn(img_B_inp)\n",
    "\n",
    "concat = Concatenate()([feature_vector_A, feature_vector_B])\n",
    "\n",
    "dense = Dense(64, activation='relu')(concat)\n",
    "output = Dense(1, activation='sigmoid')(dense)\n",
    "\n",
    "model = Model(inputs=[img_A_inp, img_B_inp], outputs=output)\n",
    "\n",
    "model.summary()"
   ]
  },
  {
   "cell_type": "code",
   "execution_count": 13,
   "metadata": {},
   "outputs": [],
   "source": [
    "X_train = dataset.copy()\n",
    "y_train = label.copy()\n",
    "X_test = test_dataset.copy()\n",
    "y_test = test_label.copy()"
   ]
  },
  {
   "cell_type": "markdown",
   "metadata": {
    "colab": {
     "base_uri": "https://localhost:8080/"
    },
    "executionInfo": {
     "elapsed": 7,
     "status": "ok",
     "timestamp": 1663946974339,
     "user": {
      "displayName": "Greg Hogg",
      "userId": "00528211315683878441"
     },
     "user_tz": 240
    },
    "id": "8EZeUxe03zIW",
    "outputId": "13ac2069-6b22-49ff-f1dd-50deba3a6934"
   },
   "source": [
    "random_indices = np.random.choice(X_train.shape[0], 300, replace=False)\n",
    "\n",
    "X_train_sample, y_train_sample = X_train[random_indices], y_train[random_indices]\n",
    "\n",
    "X_train_sample.shape, y_train_sample.shape"
   ]
  },
  {
   "cell_type": "code",
   "execution_count": null,
   "metadata": {
    "colab": {
     "base_uri": "https://localhost:8080/"
    },
    "executionInfo": {
     "elapsed": 4,
     "status": "ok",
     "timestamp": 1663946974339,
     "user": {
      "displayName": "Greg Hogg",
      "userId": "00528211315683878441"
     },
     "user_tz": 240
    },
    "id": "4AYR0lJX4UKi",
    "outputId": "5536616d-77c4-415b-d6ea-a4b5aab0632c"
   },
   "outputs": [],
   "source": [
    "len(X_train)**2"
   ]
  },
  {
   "cell_type": "code",
   "execution_count": 14,
   "metadata": {
    "id": "4oTzSv1A4xIg"
   },
   "outputs": [],
   "source": [
    "import itertools\n",
    "\n",
    "def make_paired_dataset(X, y):\n",
    "  X_pairs, y_pairs = [], []\n",
    "\n",
    "  tuples = [(x1, y1) for x1, y1 in zip(X, y)]\n",
    "  \n",
    "  for t in itertools.product(tuples, tuples):\n",
    "    pair_A, pair_B = t\n",
    "    img_A, label_A = t[0]\n",
    "    img_B, label_B = t[1]\n",
    "\n",
    "    new_label = int(label_A == label_B)\n",
    "\n",
    "    X_pairs.append([img_A, img_B])\n",
    "    y_pairs.append(new_label)\n",
    "  \n",
    "  X_pairs = np.array(X_pairs)\n",
    "  y_pairs = np.array(y_pairs)\n",
    "\n",
    "  return X_pairs, y_pairs"
   ]
  },
  {
   "cell_type": "code",
   "execution_count": 15,
   "metadata": {
    "colab": {
     "base_uri": "https://localhost:8080/"
    },
    "executionInfo": {
     "elapsed": 363,
     "status": "ok",
     "timestamp": 1663946974699,
     "user": {
      "displayName": "Greg Hogg",
      "userId": "00528211315683878441"
     },
     "user_tz": 240
    },
    "id": "iS9T-X4-6GVQ",
    "outputId": "7d9cf473-2b28-44f8-b9bf-0b42cd465d9e"
   },
   "outputs": [
    {
     "data": {
      "text/plain": [
       "(array([[[[255, 254, 251, ..., 251, 255, 255],\n",
       "          [255, 254, 251, ..., 251, 255, 255],\n",
       "          [255, 254, 251, ..., 251, 255, 255],\n",
       "          ...,\n",
       "          [255, 254, 251, ..., 252, 255, 255],\n",
       "          [255, 254, 251, ..., 252, 255, 255],\n",
       "          [255, 254, 251, ..., 252, 255, 255]],\n",
       " \n",
       "         [[255, 254, 251, ..., 251, 255, 255],\n",
       "          [255, 254, 251, ..., 251, 255, 255],\n",
       "          [255, 254, 251, ..., 251, 255, 255],\n",
       "          ...,\n",
       "          [255, 254, 251, ..., 252, 255, 255],\n",
       "          [255, 254, 251, ..., 252, 255, 255],\n",
       "          [255, 254, 251, ..., 252, 255, 255]]],\n",
       " \n",
       " \n",
       "        [[[255, 254, 251, ..., 251, 255, 255],\n",
       "          [255, 254, 251, ..., 251, 255, 255],\n",
       "          [255, 254, 251, ..., 251, 255, 255],\n",
       "          ...,\n",
       "          [255, 254, 251, ..., 252, 255, 255],\n",
       "          [255, 254, 251, ..., 252, 255, 255],\n",
       "          [255, 254, 251, ..., 252, 255, 255]],\n",
       " \n",
       "         [[255, 255, 254, ..., 254, 255, 255],\n",
       "          [255, 255, 254, ..., 254, 255, 255],\n",
       "          [255, 255, 254, ..., 254, 255, 255],\n",
       "          ...,\n",
       "          [255, 255, 254, ..., 254, 255, 255],\n",
       "          [255, 255, 254, ..., 254, 255, 255],\n",
       "          [255, 255, 254, ..., 254, 255, 255]]],\n",
       " \n",
       " \n",
       "        [[[255, 254, 251, ..., 251, 255, 255],\n",
       "          [255, 254, 251, ..., 251, 255, 255],\n",
       "          [255, 254, 251, ..., 251, 255, 255],\n",
       "          ...,\n",
       "          [255, 254, 251, ..., 252, 255, 255],\n",
       "          [255, 254, 251, ..., 252, 255, 255],\n",
       "          [255, 254, 251, ..., 252, 255, 255]],\n",
       " \n",
       "         [[255, 255, 255, ..., 255, 255, 255],\n",
       "          [255, 255, 255, ..., 255, 255, 255],\n",
       "          [255, 255, 255, ..., 255, 255, 255],\n",
       "          ...,\n",
       "          [255, 255, 255, ..., 255, 255, 255],\n",
       "          [255, 255, 255, ..., 255, 255, 255],\n",
       "          [255, 255, 255, ..., 255, 255, 255]]],\n",
       " \n",
       " \n",
       "        ...,\n",
       " \n",
       " \n",
       "        [[[255, 255, 255, ..., 255, 255, 255],\n",
       "          [255, 255, 255, ..., 255, 255, 255],\n",
       "          [255, 255, 255, ..., 255, 255, 255],\n",
       "          ...,\n",
       "          [255, 255, 255, ..., 255, 255, 255],\n",
       "          [255, 255, 255, ..., 255, 255, 255],\n",
       "          [255, 255, 255, ..., 255, 255, 255]],\n",
       " \n",
       "         [[255, 255, 255, ..., 255, 255, 255],\n",
       "          [255, 255, 255, ..., 255, 255, 255],\n",
       "          [255, 255, 255, ..., 255, 255, 255],\n",
       "          ...,\n",
       "          [255, 255, 255, ..., 255, 255, 255],\n",
       "          [255, 255, 255, ..., 255, 255, 255],\n",
       "          [255, 255, 255, ..., 255, 255, 255]]],\n",
       " \n",
       " \n",
       "        [[[255, 255, 255, ..., 255, 255, 255],\n",
       "          [255, 255, 255, ..., 255, 255, 255],\n",
       "          [255, 255, 255, ..., 255, 255, 255],\n",
       "          ...,\n",
       "          [255, 255, 255, ..., 255, 255, 255],\n",
       "          [255, 255, 255, ..., 255, 255, 255],\n",
       "          [255, 255, 255, ..., 255, 255, 255]],\n",
       " \n",
       "         [[255, 255, 255, ..., 255, 255, 255],\n",
       "          [255, 255, 255, ..., 255, 255, 255],\n",
       "          [255, 255, 255, ..., 255, 255, 255],\n",
       "          ...,\n",
       "          [255, 255, 255, ..., 255, 255, 255],\n",
       "          [255, 255, 255, ..., 255, 255, 255],\n",
       "          [255, 255, 255, ..., 255, 255, 255]]],\n",
       " \n",
       " \n",
       "        [[[255, 255, 255, ..., 255, 255, 255],\n",
       "          [255, 255, 255, ..., 255, 255, 255],\n",
       "          [255, 255, 255, ..., 255, 255, 255],\n",
       "          ...,\n",
       "          [255, 255, 255, ..., 255, 255, 255],\n",
       "          [255, 255, 255, ..., 255, 255, 255],\n",
       "          [255, 255, 255, ..., 255, 255, 255]],\n",
       " \n",
       "         [[255, 255, 255, ..., 255, 255, 255],\n",
       "          [255, 255, 255, ..., 255, 255, 255],\n",
       "          [255, 255, 255, ..., 255, 255, 255],\n",
       "          ...,\n",
       "          [255, 255, 255, ..., 255, 255, 255],\n",
       "          [255, 255, 255, ..., 255, 255, 255],\n",
       "          [255, 255, 255, ..., 255, 255, 255]]]], dtype=uint8),\n",
       " array([1, 1, 1, ..., 1, 1, 1]))"
      ]
     },
     "execution_count": 15,
     "metadata": {},
     "output_type": "execute_result"
    }
   ],
   "source": [
    "make_paired_dataset(X_train, y_train)"
   ]
  },
  {
   "cell_type": "code",
   "execution_count": 16,
   "metadata": {
    "colab": {
     "base_uri": "https://localhost:8080/"
    },
    "executionInfo": {
     "elapsed": 370,
     "status": "ok",
     "timestamp": 1663946975068,
     "user": {
      "displayName": "Greg Hogg",
      "userId": "00528211315683878441"
     },
     "user_tz": 240
    },
    "id": "Fjm0KEwu632u",
    "outputId": "0df16580-ae54-4e7f-e3ee-70640a58b85b"
   },
   "outputs": [
    {
     "data": {
      "text/plain": [
       "((19600, 2, 50, 50), (19600,))"
      ]
     },
     "execution_count": 16,
     "metadata": {},
     "output_type": "execute_result"
    }
   ],
   "source": [
    "X_train_pairs, y_train_pairs = make_paired_dataset(X_train, y_train)\n",
    "X_train_pairs.shape, y_train_pairs.shape"
   ]
  },
  {
   "cell_type": "markdown",
   "metadata": {
    "colab": {
     "base_uri": "https://localhost:8080/"
    },
    "executionInfo": {
     "elapsed": 5,
     "status": "ok",
     "timestamp": 1663946975069,
     "user": {
      "displayName": "Greg Hogg",
      "userId": "00528211315683878441"
     },
     "user_tz": 240
    },
    "id": "tCXlxNzC7GVU",
    "outputId": "fdb36ad3-32fb-49ee-e729-0210cd69c753"
   },
   "source": [
    "random_indices = np.random.choice(X_test.shape[0], 150, replace=False)\n",
    "\n",
    "X_test, y_test = X_test[random_indices], y_test[random_indices]\n",
    "\n",
    "X_test.shape, y_test.shape"
   ]
  },
  {
   "cell_type": "code",
   "execution_count": 17,
   "metadata": {
    "colab": {
     "base_uri": "https://localhost:8080/"
    },
    "executionInfo": {
     "elapsed": 132,
     "status": "ok",
     "timestamp": 1663946975198,
     "user": {
      "displayName": "Greg Hogg",
      "userId": "00528211315683878441"
     },
     "user_tz": 240
    },
    "id": "I7UQP_je7bKJ",
    "outputId": "fef94ede-d825-4f81-b79d-f6ff0c09704e"
   },
   "outputs": [
    {
     "data": {
      "text/plain": [
       "((100, 2, 50, 50), (100,))"
      ]
     },
     "execution_count": 17,
     "metadata": {},
     "output_type": "execute_result"
    }
   ],
   "source": [
    "X_test_pairs, y_test_pairs = make_paired_dataset(X_test, y_test)\n",
    "\n",
    "X_test_pairs.shape, y_test_pairs.shape"
   ]
  },
  {
   "cell_type": "code",
   "execution_count": 18,
   "metadata": {
    "id": "TsZMvJnI7kpf"
   },
   "outputs": [],
   "source": [
    "model.compile(loss='binary_crossentropy',\n",
    "              optimizer=tf.keras.optimizers.Adam(learning_rate=0.001),\n",
    "              metrics=['accuracy'])"
   ]
  },
  {
   "cell_type": "code",
   "execution_count": 19,
   "metadata": {
    "id": "nlMRhh3p7337"
   },
   "outputs": [],
   "source": [
    "from tensorflow.keras.callbacks import EarlyStopping\n",
    "\n",
    "es = EarlyStopping(patience=3)"
   ]
  },
  {
   "cell_type": "code",
   "execution_count": 20,
   "metadata": {
    "id": "b1PbwlmN79iF",
    "scrolled": true
   },
   "outputs": [
    {
     "name": "stdout",
     "output_type": "stream",
     "text": [
      "Epoch 1/5\n",
      "490/490 [==============================] - 117s 228ms/step - loss: 0.0119 - accuracy: 0.9976 - val_loss: 4.3515e-05 - val_accuracy: 1.0000\n",
      "Epoch 2/5\n",
      "490/490 [==============================] - 112s 228ms/step - loss: 3.1559e-05 - accuracy: 1.0000 - val_loss: 1.0451e-05 - val_accuracy: 1.0000\n",
      "Epoch 3/5\n",
      "490/490 [==============================] - 113s 231ms/step - loss: 8.6947e-06 - accuracy: 1.0000 - val_loss: 3.9607e-06 - val_accuracy: 1.0000\n",
      "Epoch 4/5\n",
      "490/490 [==============================] - 72s 148ms/step - loss: 4.8652e-06 - accuracy: 1.0000 - val_loss: 2.1769e-06 - val_accuracy: 1.0000\n",
      "Epoch 5/5\n",
      "490/490 [==============================] - 38s 78ms/step - loss: 2.9643e-06 - accuracy: 1.0000 - val_loss: 1.7931e-06 - val_accuracy: 1.0000\n"
     ]
    },
    {
     "data": {
      "text/plain": [
       "<keras.callbacks.History at 0x13a9ee58d90>"
      ]
     },
     "execution_count": 20,
     "metadata": {},
     "output_type": "execute_result"
    }
   ],
   "source": [
    "model.fit(x=[X_train_pairs[:, 0, :, :], X_train_pairs[:, 1, :, :]],\n",
    "          y=y_train_pairs,\n",
    "          #validation_data=([X_test_pairs[:, 0, :, :],X_test_pairs[:, 1, :, :]],y_test_pairs),\n",
    "          validation_split = 0.2,\n",
    "          epochs=5,\n",
    "          batch_size=32,\n",
    "          callbacks=[es],\n",
    "         )"
   ]
  },
  {
   "cell_type": "code",
   "execution_count": 23,
   "metadata": {},
   "outputs": [],
   "source": [
    "siamese = model.save('alpha_50x50_5epochs_extra layer.h5')"
   ]
  },
  {
   "cell_type": "code",
   "execution_count": 22,
   "metadata": {},
   "outputs": [],
   "source": [
    "x = tf.keras.models.load_model('alpha_50x50_5epochs.h5')"
   ]
  },
  {
   "cell_type": "code",
   "execution_count": 25,
   "metadata": {},
   "outputs": [],
   "source": [
    "image_directory = 'A:/difference/'\n",
    "SIZE = 100\n",
    "test__dataset = [] \n",
    "test__label = [] # has double underscore\n",
    "\n",
    "good_images = os.listdir(image_directory + 'tst/0/')\n",
    "for i, image_name in enumerate(good_images):\n",
    "    if (image_name.split('.')[1] == 'png'):\n",
    "        image = cv2.imread(image_directory + 'tst/0/' + image_name,cv2.COLOR_BGR2GRAY)\n",
    "        image = Image.fromarray(image)\n",
    "        image = image.resize((SIZE, SIZE))\n",
    "        test__dataset.append(np.array(image))\n",
    "        test__label.append(0)\n",
    "        \n",
    "good_images = os.listdir(image_directory + 'tst/1/')\n",
    "for i, image_name in enumerate(good_images):\n",
    "    if (image_name.split('.')[1] == 'png'):\n",
    "        image = cv2.imread(image_directory + 'tst/1/' + image_name,cv2.COLOR_BGR2GRAY)\n",
    "        image = Image.fromarray(image)\n",
    "        image = image.resize((SIZE, SIZE))\n",
    "        test__dataset.append(np.array(image))\n",
    "        test__label.append(1)\n",
    "        "
   ]
  },
  {
   "cell_type": "code",
   "execution_count": 26,
   "metadata": {},
   "outputs": [
    {
     "data": {
      "text/plain": [
       "[array([[249, 249, 249, ..., 251, 252, 241],\n",
       "        [248, 249, 249, ..., 251, 252, 240],\n",
       "        [248, 249, 251, ..., 252, 252, 234],\n",
       "        ...,\n",
       "        [250, 250, 250, ..., 251, 253, 221],\n",
       "        [251, 250, 250, ..., 251, 253, 222],\n",
       "        [251, 250, 250, ..., 252, 253, 225]], dtype=uint8),\n",
       " array([[252, 252, 252, ..., 252, 252, 252],\n",
       "        [252, 252, 252, ..., 252, 251, 252],\n",
       "        [251, 252, 252, ..., 252, 252, 252],\n",
       "        ...,\n",
       "        [253, 252, 252, ..., 252, 252, 251],\n",
       "        [252, 252, 252, ..., 252, 252, 252],\n",
       "        [252, 251, 252, ..., 252, 252, 252]], dtype=uint8),\n",
       " array([[252, 252, 252, ..., 251, 252, 251],\n",
       "        [253, 252, 252, ..., 251, 252, 251],\n",
       "        [253, 253, 253, ..., 251, 251, 250],\n",
       "        ...,\n",
       "        [251, 252, 253, ..., 252, 251, 252],\n",
       "        [252, 252, 252, ..., 252, 251, 251],\n",
       "        [251, 252, 252, ..., 251, 251, 251]], dtype=uint8),\n",
       " array([[252, 252, 252, ..., 251, 251, 251],\n",
       "        [252, 252, 253, ..., 251, 251, 251],\n",
       "        [251, 252, 252, ..., 250, 251, 251],\n",
       "        ...,\n",
       "        [252, 252, 253, ..., 250, 249, 250],\n",
       "        [252, 252, 252, ..., 251, 251, 251],\n",
       "        [251, 251, 251, ..., 250, 250, 252]], dtype=uint8),\n",
       " array([[251, 251, 252, ..., 251, 251, 251],\n",
       "        [252, 252, 252, ..., 251, 251, 251],\n",
       "        [252, 252, 252, ..., 251, 252, 251],\n",
       "        ...,\n",
       "        [251, 251, 251, ..., 252, 253, 252],\n",
       "        [251, 250, 249, ..., 252, 253, 253],\n",
       "        [251, 250, 250, ..., 252, 252, 252]], dtype=uint8),\n",
       " array([[255, 255, 255, ..., 255, 255, 255],\n",
       "        [255, 255, 255, ..., 255, 255, 255],\n",
       "        [255, 255, 255, ..., 255, 255, 255],\n",
       "        ...,\n",
       "        [255, 255, 255, ..., 255, 255, 255],\n",
       "        [255, 255, 255, ..., 255, 255, 255],\n",
       "        [255, 255, 255, ..., 255, 255, 255]], dtype=uint8),\n",
       " array([[255, 254, 251, ..., 255, 255, 255],\n",
       "        [255, 254, 251, ..., 255, 255, 255],\n",
       "        [255, 254, 252, ..., 255, 255, 255],\n",
       "        ...,\n",
       "        [255, 255, 255, ..., 255, 255, 255],\n",
       "        [255, 255, 255, ..., 255, 255, 255],\n",
       "        [255, 255, 255, ..., 255, 255, 255]], dtype=uint8),\n",
       " array([[255, 255, 255, ..., 251, 253, 255],\n",
       "        [255, 255, 255, ..., 251, 253, 255],\n",
       "        [255, 255, 255, ..., 251, 253, 255],\n",
       "        ...,\n",
       "        [255, 255, 255, ..., 255, 255, 255],\n",
       "        [255, 255, 255, ..., 255, 255, 255],\n",
       "        [255, 255, 255, ..., 255, 255, 255]], dtype=uint8),\n",
       " array([[255, 254, 252, ..., 255, 255, 255],\n",
       "        [255, 254, 252, ..., 255, 255, 255],\n",
       "        [255, 254, 252, ..., 255, 255, 255],\n",
       "        ...,\n",
       "        [255, 255, 255, ..., 255, 255, 255],\n",
       "        [255, 255, 255, ..., 255, 255, 255],\n",
       "        [255, 255, 255, ..., 255, 255, 255]], dtype=uint8),\n",
       " array([[255, 254, 252, ..., 250, 252, 255],\n",
       "        [255, 254, 252, ..., 251, 252, 255],\n",
       "        [255, 254, 252, ..., 252, 252, 255],\n",
       "        ...,\n",
       "        [255, 255, 255, ..., 255, 255, 255],\n",
       "        [255, 255, 255, ..., 255, 255, 255],\n",
       "        [255, 255, 255, ..., 255, 255, 255]], dtype=uint8)]"
      ]
     },
     "execution_count": 26,
     "metadata": {},
     "output_type": "execute_result"
    }
   ],
   "source": [
    "test__dataset"
   ]
  },
  {
   "cell_type": "code",
   "execution_count": 27,
   "metadata": {},
   "outputs": [],
   "source": [
    "test__dataset = np.array(test_dataset)"
   ]
  },
  {
   "cell_type": "code",
   "execution_count": 38,
   "metadata": {},
   "outputs": [
    {
     "data": {
      "text/plain": [
       "(0, 1)"
      ]
     },
     "execution_count": 38,
     "metadata": {},
     "output_type": "execute_result"
    }
   ],
   "source": [
    "img_A, img_B = test__dataset[1],test__dataset[8]\n",
    "label_A, label_B = test__label[1], test__label[8]\n",
    "label_A, label_B"
   ]
  },
  {
   "cell_type": "markdown",
   "metadata": {
    "colab": {
     "base_uri": "https://localhost:8080/"
    },
    "executionInfo": {
     "elapsed": 123,
     "status": "ok",
     "timestamp": 1663947371221,
     "user": {
      "displayName": "Greg Hogg",
      "userId": "00528211315683878441"
     },
     "user_tz": 240
    },
    "id": "jvVL2A8r81oC",
    "outputId": "08c9940d-b71a-4b2c-aef5-787aa7d1e2e7"
   },
   "source": [
    "img_A, img_B = X_test[6], X_test[7]\n",
    "label_A, label_B = y_test[6], y_test[7]\n",
    "label_A, label_B"
   ]
  },
  {
   "cell_type": "code",
   "execution_count": 44,
   "metadata": {
    "colab": {
     "base_uri": "https://localhost:8080/",
     "height": 131
    },
    "executionInfo": {
     "elapsed": 450,
     "status": "ok",
     "timestamp": 1663947372422,
     "user": {
      "displayName": "Greg Hogg",
      "userId": "00528211315683878441"
     },
     "user_tz": 240
    },
    "id": "f7oxTjIS-Pp4",
    "outputId": "b60622f9-26c6-4847-ffba-d3a9fe7ffdde"
   },
   "outputs": [
    {
     "data": {
      "text/plain": [
       "<matplotlib.image.AxesImage at 0x13bef33a8c0>"
      ]
     },
     "execution_count": 44,
     "metadata": {},
     "output_type": "execute_result"
    },
    {
     "data": {
      "image/png": "[encoded data removed]",
      "text/plain": [
       "<Figure size 320x240 with 1 Axes>"
      ]
     },
     "metadata": {},
     "output_type": "display_data"
    },
    {
     "data": {
      "image/png": "[encoded data removed]",
      "text/plain": [
       "<Figure size 320x240 with 1 Axes>"
      ]
     },
     "metadata": {},
     "output_type": "display_data"
    }
   ],
   "source": [
    "import matplotlib.pyplot as plt\n",
    "\n",
    "plt.figure(dpi=50)\n",
    "plt.imshow(img_A)\n",
    "\n",
    "plt.figure(dpi=50)\n",
    "plt.imshow(img_B)"
   ]
  },
  {
   "cell_type": "code",
   "execution_count": 45,
   "metadata": {
    "colab": {
     "base_uri": "https://localhost:8080/"
    },
    "executionInfo": {
     "elapsed": 252,
     "status": "ok",
     "timestamp": 1663947425824,
     "user": {
      "displayName": "Greg Hogg",
      "userId": "00528211315683878441"
     },
     "user_tz": 240
    },
    "id": "qC22CuOM-WmM",
    "outputId": "e601d7aa-2912-4986-90a3-147417989a55"
   },
   "outputs": [
    {
     "name": "stdout",
     "output_type": "stream",
     "text": [
      "1/1 [==============================] - 0s 14ms/step\n"
     ]
    }
   ],
   "source": [
    "prediction = model.predict([img_A.reshape((1, 50,50)), \n",
    "               img_B.reshape((1, 50,50))])"
   ]
  },
  {
   "cell_type": "code",
   "execution_count": 46,
   "metadata": {},
   "outputs": [
    {
     "data": {
      "text/plain": [
       "array([[1.04593755e-05]], dtype=float32)"
      ]
     },
     "execution_count": 46,
     "metadata": {},
     "output_type": "execute_result"
    }
   ],
   "source": [
    "prediction"
   ]
  },
  {
   "cell_type": "code",
   "execution_count": 47,
   "metadata": {},
   "outputs": [
    {
     "name": "stdout",
     "output_type": "stream",
     "text": [
      "Forged\n"
     ]
    }
   ],
   "source": [
    "print('Forged' if prediction[0]*100 < 80 else 'Genuine')"
   ]
  },
  {
   "cell_type": "code",
   "execution_count": null,
   "metadata": {},
   "outputs": [],
   "source": []
  }
 ],
 "metadata": {
  "accelerator": "GPU",
  "colab": {
   "provenance": [
    {
     "file_id": "1smOkMgJIouKNBCZQUcmpTYrhpX2ciTHv",
     "timestamp": 1669947273125
    }
   ]
  },
  "kernelspec": {
   "display_name": "Python 3.10.8 64-bit",
   "language": "python",
   "name": "python3"
  },
  "language_info": {
   "codemirror_mode": {
    "name": "ipython",
    "version": 3
   },
   "file_extension": ".py",
   "mimetype": "text/x-python",
   "name": "python",
   "nbconvert_exporter": "python",
   "pygments_lexer": "ipython3",
   "version": "3.10.8"
  },
  "vscode": {
   "interpreter": {
    "hash": "07860232d379e1fbe87a09ff7e95321c744388610fc5814a9cea3280a7a3e463"
   }
  }
 },
 "nbformat": 4,
 "nbformat_minor": 1
}
